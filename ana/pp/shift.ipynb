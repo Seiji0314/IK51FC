{
 "cells": [
  {
   "cell_type": "code",
   "execution_count": 1,
   "metadata": {},
   "outputs": [],
   "source": [
    "# base\n",
    "s1_0 = [63.28, 158.20]\n",
    "s2_0 = [143.54, 175.79]\n",
    "s3_0 = [125.04, 129.74] "
   ]
  },
  {
   "cell_type": "code",
   "execution_count": 2,
   "metadata": {},
   "outputs": [],
   "source": [
    "# shifted\n",
    "s1_s = [60.47, 161.70]\n",
    "s2_s = [143.52, 175.10]\n",
    "s3_s = [122.69, 125.71]"
   ]
  },
  {
   "cell_type": "code",
   "execution_count": 16,
   "metadata": {},
   "outputs": [],
   "source": [
    "# dif \n",
    "def dif(a, b, c, d, e, f):\n",
    "    dx_1 = a[0] - d[0]\n",
    "    dx_2 = b[0] - e[0]\n",
    "    dx_3 = c[0] - f[0]\n",
    "\n",
    "    dy_1 = a[1] - d[1]\n",
    "    dy_2 = b[1] - e[1]\n",
    "    dy_3 = c[1] - f[1]\n",
    "\n",
    "    dx_av = (dx_1+dx_2+dx_3)/3.\n",
    "    dy_av = (dy_1+dy_2+dy_3)/3.\n",
    "\n",
    "    print(dx_av, dy_av)"
   ]
  },
  {
   "cell_type": "code",
   "execution_count": 17,
   "metadata": {},
   "outputs": [
    {
     "name": "stdout",
     "output_type": "stream",
     "text": [
      "6.016666666666666 8.273333333333332\n"
     ]
    }
   ],
   "source": [
    "dif(s1_0, s2_0, s3_0, s1_s, s2_s, s3_s)"
   ]
  },
  {
   "cell_type": "code",
   "execution_count": 18,
   "metadata": {},
   "outputs": [],
   "source": [
    "# shifted\n",
    "s1_s = [55.81, 155.69]\n",
    "s2_s = [138.00, 174.84]\n",
    "s3_s = [120.00, 108.38]"
   ]
  },
  {
   "cell_type": "code",
   "execution_count": 19,
   "metadata": {},
   "outputs": [
    {
     "name": "stdout",
     "output_type": "stream",
     "text": [
      "6.016666666666666 8.273333333333332\n"
     ]
    }
   ],
   "source": [
    "dif(s1_0, s2_0, s3_0, s1_s, s2_s, s3_s)"
   ]
  },
  {
   "cell_type": "code",
   "execution_count": 2,
   "metadata": {},
   "outputs": [],
   "source": [
    "import astropy.io.fits as fits  #「fits」と呼ばれる形式の画像の処理に用いる"
   ]
  },
  {
   "cell_type": "code",
   "execution_count": 5,
   "metadata": {},
   "outputs": [
    {
     "name": "stdout",
     "output_type": "stream",
     "text": [
      "60.0\n"
     ]
    }
   ],
   "source": [
    "exp = fits.getheader('/Users/seiji/Desktop/astro/30_astr/obs/20230825/dark_60_ -001_B.fit')\n",
    "print(exp['EXPTIME'])"
   ]
  },
  {
   "cell_type": "code",
   "execution_count": 6,
   "metadata": {},
   "outputs": [],
   "source": [
    "files = ['/Users/seiji/Desktop/astro/30_astr/obs/20230823/M57-002_R.fit', '/Users/seiji/Desktop/astro/30_astr/obs/20230823/M57-002_V.fit', '/Users/seiji/Desktop/astro/30_astr/obs/20230823/M57-002_B.fit', '/Users/seiji/Desktop/astro/30_astr/obs/20230823/M57-002_U.fit', '/Users/seiji/Desktop/astro/30_astr/obs/20230823/M57-001_R.fit', '/Users/seiji/Desktop/astro/30_astr/obs/20230823/M57-001_V.fit', '/Users/seiji/Desktop/astro/30_astr/obs/20230823/M57-001_U.fit', '/Users/seiji/Desktop/astro/30_astr/obs/20230823/M57-001_B.fit', '/Users/seiji/Desktop/astro/30_astr/obs/20230823/M57-001_I.fit', '/Users/seiji/Desktop/astro/30_astr/obs/20230823/M57-002_I.fit']"
   ]
  },
  {
   "cell_type": "code",
   "execution_count": 7,
   "metadata": {},
   "outputs": [
    {
     "name": "stdout",
     "output_type": "stream",
     "text": [
      "['/Users/seiji/Desktop/astro/30_astr/obs/20230823/M57-002_V.fit', '/Users/seiji/Desktop/astro/30_astr/obs/20230823/M57-001_V.fit']\n"
     ]
    }
   ],
   "source": [
    "file = [f for f in files if 'V' in f]\n",
    "print(file)"
   ]
  },
  {
   "cell_type": "code",
   "execution_count": 14,
   "metadata": {},
   "outputs": [],
   "source": [
    "import numpy as np\n",
    "import glob\n",
    "import matplotlib.pyplot as plt\n",
    "import astropy.io.fits as fits  #「fits」と呼ばれる形式の画像の処理に用いる"
   ]
  },
  {
   "cell_type": "code",
   "execution_count": 5,
   "metadata": {},
   "outputs": [],
   "source": [
    "img = fits.getdata('/Users/seiji/Desktop/astro/30_astr/obs/20230902/dark_60-001.fit')"
   ]
  },
  {
   "cell_type": "code",
   "execution_count": 6,
   "metadata": {},
   "outputs": [
    {
     "data": {
      "text/plain": [
       "(3056, 3056)"
      ]
     },
     "execution_count": 6,
     "metadata": {},
     "output_type": "execute_result"
    }
   ],
   "source": [
    "img.shape"
   ]
  },
  {
   "cell_type": "code",
   "execution_count": 7,
   "metadata": {},
   "outputs": [],
   "source": [
    "dark_images = np.empty((0, 3056, 3056))  "
   ]
  },
  {
   "cell_type": "code",
   "execution_count": 8,
   "metadata": {},
   "outputs": [],
   "source": [
    "dark_images = np.append(dark_images, img[np.newaxis, :], axis=0) #箱にデータを入れる"
   ]
  },
  {
   "cell_type": "code",
   "execution_count": 9,
   "metadata": {},
   "outputs": [
    {
     "name": "stdout",
     "output_type": "stream",
     "text": [
      "[[[1355. 1387. 1337. ... 1315. 1324. 1368.]\n",
      "  [1366. 1402. 1359. ... 1310. 1338. 1348.]\n",
      "  [1378. 1382. 1379. ... 1315. 1328. 1339.]\n",
      "  ...\n",
      "  [1320. 1326. 1337. ... 1329. 1322. 1320.]\n",
      "  [1333. 1329. 1341. ... 1320. 1324. 1336.]\n",
      "  [1360. 1346. 1328. ... 1338. 1335. 1346.]]]\n"
     ]
    }
   ],
   "source": [
    "print(dark_images)"
   ]
  },
  {
   "cell_type": "code",
   "execution_count": 11,
   "metadata": {},
   "outputs": [
    {
     "name": "stdout",
     "output_type": "stream",
     "text": [
      "['/Users/seiji/Desktop/astro/30_astr/obs/20230902/dark_60-004.fit', '/Users/seiji/Desktop/astro/30_astr/obs/20230902/dark_60-010.fit', '/Users/seiji/Desktop/astro/30_astr/obs/20230902/dark_60-005.fit', '/Users/seiji/Desktop/astro/30_astr/obs/20230902/dark_60-007.fit', '/Users/seiji/Desktop/astro/30_astr/obs/20230902/dark_60-006.fit', '/Users/seiji/Desktop/astro/30_astr/obs/20230902/dark_60-002.fit', '/Users/seiji/Desktop/astro/30_astr/obs/20230902/dark_60-003.fit', '/Users/seiji/Desktop/astro/30_astr/obs/20230902/dark_60-001.fit', '/Users/seiji/Desktop/astro/30_astr/obs/20230902/dark_60-008.fit', '/Users/seiji/Desktop/astro/30_astr/obs/20230902/dark_60-009.fit']\n"
     ]
    }
   ],
   "source": [
    "dir = '/Users/seiji/Desktop/astro/30_astr/obs/20230902/dark*fit'\n",
    "darks = glob.glob(dir)\n",
    "print(darks)"
   ]
  },
  {
   "cell_type": "code",
   "execution_count": 16,
   "metadata": {},
   "outputs": [
    {
     "name": "stdout",
     "output_type": "stream",
     "text": [
      "/Users/seiji/Desktop/astro/30_astr/obs/20230902/dark_60-004.fit\n",
      "/Users/seiji/Desktop/astro/30_astr/obs/20230902/dark_60-010.fit\n",
      "/Users/seiji/Desktop/astro/30_astr/obs/20230902/dark_60-005.fit\n",
      "/Users/seiji/Desktop/astro/30_astr/obs/20230902/dark_60-007.fit\n",
      "/Users/seiji/Desktop/astro/30_astr/obs/20230902/dark_60-006.fit\n",
      "/Users/seiji/Desktop/astro/30_astr/obs/20230902/dark_60-002.fit\n",
      "/Users/seiji/Desktop/astro/30_astr/obs/20230902/dark_60-003.fit\n",
      "/Users/seiji/Desktop/astro/30_astr/obs/20230902/dark_60-001.fit\n",
      "/Users/seiji/Desktop/astro/30_astr/obs/20230902/dark_60-008.fit\n",
      "/Users/seiji/Desktop/astro/30_astr/obs/20230902/dark_60-009.fit\n",
      "[[[1355. 1387. 1337. ... 1315. 1324. 1368.]\n",
      "  [1366. 1402. 1359. ... 1310. 1338. 1348.]\n",
      "  [1378. 1382. 1379. ... 1315. 1328. 1339.]\n",
      "  ...\n",
      "  [1320. 1326. 1337. ... 1329. 1322. 1320.]\n",
      "  [1333. 1329. 1341. ... 1320. 1324. 1336.]\n",
      "  [1360. 1346. 1328. ... 1338. 1335. 1346.]]\n",
      "\n",
      " [[1374. 1370. 1336. ... 1321. 1330. 1324.]\n",
      "  [1343. 1343. 1351. ... 1314. 1324. 1348.]\n",
      "  [1374. 1372. 1385. ... 1319. 1320. 1327.]\n",
      "  ...\n",
      "  [1340. 1327. 1329. ... 1339. 1338. 1352.]\n",
      "  [1351. 1342. 1316. ... 1330. 1326. 1343.]\n",
      "  [1340. 1344. 1329. ... 1322. 1326. 1335.]]\n",
      "\n",
      " [[1354. 1367. 1354. ... 1325. 1336. 1354.]\n",
      "  [1383. 1334. 1357. ... 1309. 1325. 1317.]\n",
      "  [1372. 1405. 1371. ... 1336. 1359. 1342.]\n",
      "  ...\n",
      "  [1332. 1346. 1329. ... 1318. 1311. 1339.]\n",
      "  [1329. 1321. 1310. ... 1342. 1336. 1338.]\n",
      "  [1357. 1341. 1320. ... 1318. 1322. 1338.]]\n",
      "\n",
      " ...\n",
      "\n",
      " [[1355. 1387. 1337. ... 1315. 1324. 1368.]\n",
      "  [1366. 1402. 1359. ... 1310. 1338. 1348.]\n",
      "  [1378. 1382. 1379. ... 1315. 1328. 1339.]\n",
      "  ...\n",
      "  [1320. 1326. 1337. ... 1329. 1322. 1320.]\n",
      "  [1333. 1329. 1341. ... 1320. 1324. 1336.]\n",
      "  [1360. 1346. 1328. ... 1338. 1335. 1346.]]\n",
      "\n",
      " [[1388. 1374. 1359. ... 1326. 1302. 1348.]\n",
      "  [1393. 1359. 1357. ... 1325. 1343. 1337.]\n",
      "  [1355. 1379. 1382. ... 1329. 1349. 1330.]\n",
      "  ...\n",
      "  [1341. 1333. 1315. ... 1329. 1313. 1342.]\n",
      "  [1329. 1319. 1328. ... 1336. 1325. 1341.]\n",
      "  [1359. 1361. 1328. ... 1312. 1316. 1317.]]\n",
      "\n",
      " [[1361. 1387. 1361. ... 1337. 1333. 1344.]\n",
      "  [1389. 1379. 1366. ... 1323. 1339. 1346.]\n",
      "  [1375. 1353. 1369. ... 1324. 1337. 1319.]\n",
      "  ...\n",
      "  [1334. 1316. 1313. ... 1330. 1347. 1318.]\n",
      "  [1351. 1313. 1312. ... 1335. 1322. 1358.]\n",
      "  [1336. 1367. 1321. ... 1311. 1348. 1316.]]]\n",
      "1294.0 115.00422854715819\n"
     ]
    },
    {
     "data": {
      "text/plain": [
       "<matplotlib.image.AxesImage at 0x119773590>"
      ]
     },
     "execution_count": 16,
     "metadata": {},
     "output_type": "execute_result"
    },
    {
     "data": {
      "image/png": "[encoded data removed]",
      "text/plain": [
       "<Figure size 700x700 with 1 Axes>"
      ]
     },
     "metadata": {},
     "output_type": "display_data"
    }
   ],
   "source": [
    "for dark in darks:\n",
    "    print(dark)\n",
    "    dark = fits.getdata(dark)\n",
    "    dark_images = np.append(dark_images, dark[np.newaxis, :], axis=0) #箱にデータを入れる\n",
    "    median = np.median(dark) #中央値\n",
    "    stddev = np.std(dark) #標準偏差\n",
    "    #print(dark, median, stddev)\n",
    "\n",
    "print(dark_images)\n",
    "\n",
    "median_dark = np.median(dark_images, axis=0)                              #dark_images から中央値をとる\n",
    "out_d = '/Users/seiji/Desktop/astro/30_astr/calib/dark/20230903/'\n",
    "fits.writeto(out_d + '/dark.fit', median_dark, overwrite=True)  #作成したディレクトリにダーク画像を出力\n",
    "dark = fits.getdata(out_d +'/dark.fit')                        #作成したデータを取得\n",
    "\n",
    "median = np.median(dark)\n",
    "stddev = np.std(dark)\n",
    "print(median, stddev)\n",
    "plt.figure(figsize=(7, 7))\n",
    "plt.imshow(dark, plt.cm.gray, vmin=median - stddev, vmax = median + stddev, origin='lower', interpolation='none')"
   ]
  },
  {
   "cell_type": "code",
   "execution_count": null,
   "metadata": {},
   "outputs": [],
   "source": []
  }
 ],
 "metadata": {
  "kernelspec": {
   "display_name": "Python 3",
   "language": "python",
   "name": "python3"
  },
  "language_info": {
   "codemirror_mode": {
    "name": "ipython",
    "version": 3
   },
   "file_extension": ".py",
   "mimetype": "text/x-python",
   "name": "python",
   "nbconvert_exporter": "python",
   "pygments_lexer": "ipython3",
   "version": "3.11.4"
  },
  "orig_nbformat": 4
 },
 "nbformat": 4,
 "nbformat_minor": 2
}
